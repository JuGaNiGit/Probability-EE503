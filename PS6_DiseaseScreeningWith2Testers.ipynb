{
 "cells": [
  {
   "cell_type": "markdown",
   "metadata": {},
   "source": [
    "# PS6, P1. Disease Screening With Two Testers"
   ]
  },
  {
   "cell_type": "code",
   "execution_count": 1,
   "metadata": {},
   "outputs": [],
   "source": [
    "%matplotlib inline\n",
    "import matplotlib.pyplot as plt\n",
    "import numpy as np"
   ]
  },
  {
   "cell_type": "markdown",
   "metadata": {},
   "source": [
    "Suppose we have two disease screening testers with Bernoulli outputs $X_1$ and $X_2$. Let $H$ and $H^c$ be the events of having and not having the disease. Assume:\n",
    "\n",
    "* Tester 1: ($p_{detect} = 0.9$, $p_{fals ealarm} = 0.25$). Thus, $P[X_1 = 1|H] = 0.9$, $P[X_1 = 1|H^c] = 0.25$.\n",
    "\n",
    "* Tester 2: ($p_{detect} = .8, p_{false alarm} = 0.08$). Thus, $P[X_2 = 1|H] = 0.8, P[X_2 = 1|H^c] = 0.08.$\n",
    "\n",
    "A person takes \\textit{both} tests and receives the binary output ($X_1$, $X_2$). Assume that $X_1$ and $X_2$ are \\textit{conditionally independent given $H$} and also \\textit{conditionally independent given $H^c$}:\n",
    "$$P[(X_1, X_2) = (1, 1)|H] =0.72 ,\\quad P[(X_1, X_2) = (1, 1)|H^c]=0.02$$\n",
    "$$P[(X_1, X_2) = (1, 0)|H] =0.18,\\quad P[(X_1, X_2) = (1, 0)|H^c]=0.23$$\n",
    "$$P[(X_1, X_2) = (0, 1)|H] =0.08,\\quad P[(X_1, X_2) = (0, 1)|H^c]=0.06$$\n",
    "$$P[(X_1, X_2) = (0, 0)|H] = 0.02 ,\\quad P[(X_1, X_2) = (0, 0)|H^c]=0.69$$\n",
    "We want to take the output $(X_1, X_2)$ and create a (possibly randomized) Bernoulli random variable $Y\\in \\{0, 1\\}$. Define ($p^{new}_{detect}, p^{new}_{falsealarm}$) = ($P[Y = 1|H], P[Y = 1|H^c]$)."
   ]
  },
  {
   "cell_type": "markdown",
   "metadata": {},
   "source": []
  },
  {
   "cell_type": "code",
   "execution_count": 2,
   "metadata": {},
   "outputs": [
    {
     "data": {
      "image/png": "[encoded data removed]",
      "text/plain": [
       "<Figure size 432x288 with 1 Axes>"
      ]
     },
     "metadata": {
      "needs_background": "light"
     },
     "output_type": "display_data"
    }
   ],
   "source": [
    "x = [0,0.1,0.2,0.72,0.18,0.08,0.02,0.28,0.82,0.92,0.98,0.26,0.74,1]\n",
    "y = [0,0.75,0.92,0.02,0.23,0.06,0.69,0.98,0.77,0.94,0.31,0.29,0.71,1]\n",
    "r=[0.9,0.8]\n",
    "s=[0.25,0.08]\n",
    "plt.scatter(x, y)\n",
    "plt.scatter(r,s)\n",
    "plt.show()"
   ]
  },
  {
   "cell_type": "markdown",
   "metadata": {},
   "source": [
    "So we obtained the plot of the 16 points ($p^{new}_{detect}, p^{new}_{falsealarm}$). We are gonna choose points such that we make a convex hull such that all the points in the plot are left inside the hull. First, we need to construct a function $Z$ to minimize $p^{new}_{falsealarm}$ subject to the constraint $p^{new}_{detect} \\geq 0.89$, so we pick the two points whose line intersects the optimized line $p^{new}_{detect}=0.89$, those are the  points $(0.8,0.08)$ and $(0.98,0.31)$."
   ]
  },
  {
   "cell_type": "code",
   "execution_count": 3,
   "metadata": {},
   "outputs": [
    {
     "data": {
      "image/png": "[encoded data removed]",
      "text/plain": [
       "<Figure size 432x288 with 1 Axes>"
      ]
     },
     "metadata": {
      "needs_background": "light"
     },
     "output_type": "display_data"
    }
   ],
   "source": [
    "x = [0,0.1,0.2,0.72,0.18,0.08,0.02,0.28,0.82,0.92,0.98,0.26,0.74,1]\n",
    "y = [0,0.75,0.92,0.02,0.23,0.06,0.69,0.98,0.77,0.94,0.31,0.29,0.71,1]\n",
    "r=[0.9,0.8]\n",
    "s=[0.25,0.08]\n",
    "\n",
    "# Prepare convex hull boundaries\n",
    "t = np.linspace(0, 1)\n",
    "plt.plot(0*(1-t)+0.72*t, 0*(1-t)+0.02*t,'r--')\n",
    "plt.plot(0.72*(1-t)+0.8*t, 0.02*(1-t)+0.08*t,'r--')\n",
    "plt.plot(0.8*(1-t)+0.98*t, 0.08*(1-t)+0.31*t,'g--')\n",
    "plt.plot(0.98*(1-t)+1*t, 0.31*(1-t)+1*t,'r--')\n",
    "plt.plot(1*(1-t)+0.28*t, 1*(1-t)+0.98*t,'r--')\n",
    "plt.plot(0.2*(1-t)+0.28*t, 0.92*(1-t)+0.98*t,'r--')\n",
    "plt.plot(0.02*(1-t)+0.2*t, 0.69*(1-t)+0.92*t,'r--')\n",
    "plt.plot(0.02*(1-t), 0.69*(1-t),'r--')\n",
    "plt.plot(0.89,0.195,'r*',markersize=10)\n",
    "plt.scatter(x, y)\n",
    "plt.scatter(r,s)\n",
    "plt.axvline(0.89, 0, 1, label='pyplot vertical line')\n",
    "\n",
    "plt.show()"
   ]
  },
  {
   "cell_type": "code",
   "execution_count": null,
   "metadata": {},
   "outputs": [],
   "source": []
  }
 ],
 "metadata": {
  "kernelspec": {
   "display_name": "Python 3",
   "language": "python",
   "name": "python3"
  },
  "language_info": {
   "codemirror_mode": {
    "name": "ipython",
    "version": 3
   },
   "file_extension": ".py",
   "mimetype": "text/x-python",
   "name": "python",
   "nbconvert_exporter": "python",
   "pygments_lexer": "ipython3",
   "version": "3.8.5"
  }
 },
 "nbformat": 4,
 "nbformat_minor": 4
}
